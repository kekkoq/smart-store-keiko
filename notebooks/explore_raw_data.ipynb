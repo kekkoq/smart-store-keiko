{
 "cells": [
  {
   "cell_type": "code",
   "execution_count": 1,
   "id": "caeca786",
   "metadata": {},
   "outputs": [
    {
     "data": {
      "text/plain": [
       "'c:\\\\Repos\\\\smart-store-keiko\\\\notebooks'"
      ]
     },
     "execution_count": 1,
     "metadata": {},
     "output_type": "execute_result"
    }
   ],
   "source": [
    "import os\n",
    "\n",
    "os.getcwd()"
   ]
  },
  {
   "cell_type": "code",
   "execution_count": 2,
   "id": "5cba8b60",
   "metadata": {},
   "outputs": [
    {
     "name": "stdout",
     "output_type": "stream",
     "text": [
      "Exists? True\n"
     ]
    }
   ],
   "source": [
    "import os\n",
    "\n",
    "path = \"../data/raw/customers_data.csv\"\n",
    "print(\"Exists?\", os.path.exists(path))"
   ]
  },
  {
   "cell_type": "code",
   "execution_count": null,
   "id": "f8f2453f",
   "metadata": {},
   "outputs": [],
   "source": [
    "import pandas as pd\n",
    "\n",
    "customers = pd.read_csv(\"../data/raw/customers_data.csv\")\n",
    "customers.head()"
   ]
  },
  {
   "cell_type": "code",
   "execution_count": null,
   "id": "0d264a77",
   "metadata": {},
   "outputs": [],
   "source": [
    "with open(\"../data/raw/customers_data.csv\", \"r\", encoding=\"utf-8\") as f:\n",
    "    for i in range(10):\n",
    "        print(f.readline())"
   ]
  },
  {
   "cell_type": "code",
   "execution_count": null,
   "id": "1c1d0db3",
   "metadata": {},
   "outputs": [],
   "source": [
    "with open(\"../data/raw/customers_data.csv\", \"r\", encoding=\"utf-8\") as f:\n",
    "    for i in range(10):\n",
    "        print(f.readline())"
   ]
  },
  {
   "cell_type": "code",
   "execution_count": null,
   "id": "b120cfcf",
   "metadata": {},
   "outputs": [],
   "source": [
    "print(\"Notebook is running\")"
   ]
  },
  {
   "cell_type": "code",
   "execution_count": 1,
   "id": "e695eedb",
   "metadata": {},
   "outputs": [
    {
     "name": "stdout",
     "output_type": "stream",
     "text": [
      "Notebook is running\n"
     ]
    }
   ],
   "source": [
    "print(\"Notebook is running\")"
   ]
  },
  {
   "cell_type": "code",
   "execution_count": 2,
   "id": "12f8e4e3",
   "metadata": {},
   "outputs": [
    {
     "data": {
      "text/html": [
       "<div>\n",
       "<style scoped>\n",
       "    .dataframe tbody tr th:only-of-type {\n",
       "        vertical-align: middle;\n",
       "    }\n",
       "\n",
       "    .dataframe tbody tr th {\n",
       "        vertical-align: top;\n",
       "    }\n",
       "\n",
       "    .dataframe thead th {\n",
       "        text-align: right;\n",
       "    }\n",
       "</style>\n",
       "<table border=\"1\" class=\"dataframe\">\n",
       "  <thead>\n",
       "    <tr style=\"text-align: right;\">\n",
       "      <th></th>\n",
       "      <th>CustomerID</th>\n",
       "      <th>Name</th>\n",
       "      <th>Region</th>\n",
       "      <th>JoinDate</th>\n",
       "    </tr>\n",
       "  </thead>\n",
       "  <tbody>\n",
       "    <tr>\n",
       "      <th>0</th>\n",
       "      <td>1000</td>\n",
       "      <td>Robert Gomez</td>\n",
       "      <td>West</td>\n",
       "      <td>2024-02-25</td>\n",
       "    </tr>\n",
       "    <tr>\n",
       "      <th>1</th>\n",
       "      <td>1001</td>\n",
       "      <td>John Silva</td>\n",
       "      <td>East</td>\n",
       "      <td>2020-12-01</td>\n",
       "    </tr>\n",
       "    <tr>\n",
       "      <th>2</th>\n",
       "      <td>1002</td>\n",
       "      <td>Mark Marshall</td>\n",
       "      <td>Central</td>\n",
       "      <td>2020-08-08</td>\n",
       "    </tr>\n",
       "    <tr>\n",
       "      <th>3</th>\n",
       "      <td>1003</td>\n",
       "      <td>David Brennan</td>\n",
       "      <td>North</td>\n",
       "      <td>2020-05-21</td>\n",
       "    </tr>\n",
       "    <tr>\n",
       "      <th>4</th>\n",
       "      <td>1004</td>\n",
       "      <td>Kerry Collins</td>\n",
       "      <td>North</td>\n",
       "      <td>2023-09-12</td>\n",
       "    </tr>\n",
       "  </tbody>\n",
       "</table>\n",
       "</div>"
      ],
      "text/plain": [
       "   CustomerID           Name   Region    JoinDate\n",
       "0        1000   Robert Gomez     West  2024-02-25\n",
       "1        1001     John Silva     East  2020-12-01\n",
       "2        1002  Mark Marshall  Central  2020-08-08\n",
       "3        1003  David Brennan    North  2020-05-21\n",
       "4        1004  Kerry Collins    North  2023-09-12"
      ]
     },
     "execution_count": 2,
     "metadata": {},
     "output_type": "execute_result"
    }
   ],
   "source": [
    "import pandas as pd\n",
    "\n",
    "customers = pd.read_csv(\"../data/raw/customers_data.csv\")\n",
    "customers.head()"
   ]
  },
  {
   "cell_type": "code",
   "execution_count": 3,
   "id": "02c43848",
   "metadata": {},
   "outputs": [
    {
     "name": "stdout",
     "output_type": "stream",
     "text": [
      "Most common customer location: North\n"
     ]
    }
   ],
   "source": [
    "customers = pd.read_csv(\"../data/raw/customers_data.csv\")\n",
    "most_common_region = customers[\"Region\"].value_counts().idxmax()\n",
    "print(\"Most common customer location:\", most_common_region)"
   ]
  },
  {
   "cell_type": "code",
   "execution_count": 4,
   "id": "08b2ed62",
   "metadata": {},
   "outputs": [
    {
     "name": "stdout",
     "output_type": "stream",
     "text": [
      "Highest product price: 976.44\n",
      "Lowest product price: 13.51\n"
     ]
    }
   ],
   "source": [
    "products = pd.read_csv(\"../data/raw/products_data.csv\")\n",
    "highest_price = products[\"UnitPrice\"].max()\n",
    "lowest_price = products[\"UnitPrice\"].min()\n",
    "print(\"Highest product price:\", highest_price)\n",
    "print(\"Lowest product price:\", lowest_price)"
   ]
  },
  {
   "cell_type": "code",
   "execution_count": 7,
   "id": "5953fb3e",
   "metadata": {},
   "outputs": [
    {
     "name": "stdout",
     "output_type": "stream",
     "text": [
      "Average Sale Amount: 1014.2692550000002\n",
      "Minimum Sale Amount: 0.0\n",
      "Maximum Sale Amount: 6619.2\n"
     ]
    }
   ],
   "source": [
    "import pandas as pd\n",
    "\n",
    "# Load the raw sales data\n",
    "sales = pd.read_csv(\"../data/raw/sales_data.csv\")\n",
    "\n",
    "# Clean the SaleAmount column\n",
    "# Step 1: Remove any non-numeric characters (like stray punctuation)\n",
    "sales[\"SaleAmount\"] = (\n",
    "    sales[\"SaleAmount\"]\n",
    "    .astype(str)  # Ensure it's string for cleaning\n",
    "    .str.replace(r\"[^\\d\\.]\", \"\", regex=True)  # Keep only digits and dots\n",
    ")\n",
    "\n",
    "# Step 2: Handle multiple dots (e.g., '2048.2321.8732' → keep first valid float)\n",
    "sales[\"SaleAmount\"] = (\n",
    "    sales[\"SaleAmount\"]\n",
    "    .str.extract(r\"(\\d+\\.\\d+)\", expand=False)  # Extract first valid float pattern\n",
    "    .astype(float)  # Convert to numeric\n",
    ")\n",
    "\n",
    "# Step 3: Compute stats\n",
    "avg_sales = sales[\"SaleAmount\"].mean()\n",
    "min_sales = sales[\"SaleAmount\"].min()\n",
    "max_sales = sales[\"SaleAmount\"].max()\n",
    "\n",
    "print(\"Average Sale Amount:\", avg_sales)\n",
    "print(\"Minimum Sale Amount:\", min_sales)\n",
    "print(\"Maximum Sale Amount:\", max_sales)"
   ]
  },
  {
   "cell_type": "code",
   "execution_count": null,
   "id": "63e0bf89",
   "metadata": {},
   "outputs": [],
   "source": []
  }
 ],
 "metadata": {
  "kernelspec": {
   "display_name": "analytics-project",
   "language": "python",
   "name": "python3"
  },
  "language_info": {
   "codemirror_mode": {
    "name": "ipython",
    "version": 3
   },
   "file_extension": ".py",
   "mimetype": "text/x-python",
   "name": "python",
   "nbconvert_exporter": "python",
   "pygments_lexer": "ipython3",
   "version": "3.12.12"
  }
 },
 "nbformat": 4,
 "nbformat_minor": 5
}
